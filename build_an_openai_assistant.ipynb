{
  "cells": [
    {
      "cell_type": "code",
      "execution_count": 1,
      "metadata": {
        "colab": {
          "base_uri": "https://localhost:8080/"
        },
        "id": "yqyLUYg5sUhK",
        "outputId": "6d80b0aa-eeb2-4959-d650-ce5e420fc988"
      },
      "outputs": [
        {
          "data": {
            "text/plain": [
              "True"
            ]
          },
          "execution_count": 1,
          "metadata": {},
          "output_type": "execute_result"
        }
      ],
      "source": [
        "from openai import OpenAI\n",
        "\n",
        "import os\n",
        "from dotenv import load_dotenv\n",
        "\n",
        "# Load the environment variables from the .env file\n",
        "load_dotenv()"
      ]
    },
    {
      "cell_type": "code",
      "execution_count": 2,
      "metadata": {
        "colab": {
          "base_uri": "https://localhost:8080/"
        },
        "id": "cK0YPnzVsbhO",
        "outputId": "006eed8b-0e52-43b1-b29c-86e90d10040d"
      },
      "outputs": [
        {
          "data": {
            "text/plain": [
              "<openai.OpenAI at 0x1076931f0>"
            ]
          },
          "execution_count": 2,
          "metadata": {},
          "output_type": "execute_result"
        }
      ],
      "source": [
        "# Retrieve the secrets from the loaded environment variables\n",
        "openai_api_key = os.getenv('OPENAI_API_KEY')\n",
        "\n",
        "client = OpenAI(api_key=openai_api_key)\n",
        "client"
      ]
    },
    {
      "cell_type": "code",
      "execution_count": 6,
      "metadata": {
        "id": "3k6yFCausbeG"
      },
      "outputs": [
        {
          "data": {
            "text/plain": [
              "FileObject(id='file-dbTzvUqIQS7HhKbdOgkjqSmo', bytes=77032153, created_at=1729710522, filename='complete_works_of_shakespeare.pdf', object='file', purpose='assistants', status='processed', status_details=None)"
            ]
          },
          "execution_count": 6,
          "metadata": {},
          "output_type": "execute_result"
        }
      ],
      "source": [
        "## Create a file\n",
        "\n",
        "file = client.files.create(\n",
        "    file=open(\"complete_works_of_shakespeare.pdf\", 'rb'),\n",
        "    purpose='assistants'\n",
        ")\n",
        "\n",
        "file"
      ]
    },
    {
      "cell_type": "code",
      "execution_count": 7,
      "metadata": {},
      "outputs": [
        {
          "data": {
            "text/plain": [
              "VectorStore(id='vs_NdOQW1FfexbMlXKcGY8BCm9U', created_at=1729710583, file_counts=FileCounts(cancelled=0, completed=0, failed=0, in_progress=1, total=1), last_active_at=1729710583, metadata={}, name='Shakespeare Vector Store', object='vector_store', status='in_progress', usage_bytes=0, expires_after=None, expires_at=None)"
            ]
          },
          "execution_count": 7,
          "metadata": {},
          "output_type": "execute_result"
        }
      ],
      "source": [
        "## Create a vector store from the file\n",
        "\n",
        "vector_store = client.beta.vector_stores.create(\n",
        "    name=\"Shakespeare Vector Store\",\n",
        "    file_ids=[file.id]\n",
        ")\n",
        "\n",
        "vector_store"
      ]
    },
    {
      "cell_type": "code",
      "execution_count": 8,
      "metadata": {
        "id": "UJ_VjFJ4sbYY"
      },
      "outputs": [
        {
          "data": {
            "text/plain": [
              "Assistant(id='asst_DpHaMsJIiZXqE7UU79Pl5N3D', created_at=1729710607, description=None, instructions='You are a Shakespeare plays expert who answers the question based on the Shakespeare plays inside the Shakespeare Vector Store.', metadata={}, model='gpt-4o-mini', name='Shakespeare AI Assistant', object='assistant', tools=[FileSearchTool(type='file_search', file_search=FileSearch(max_num_results=None, ranking_options=FileSearchRankingOptions(score_threshold=0.0, ranker='default_2024_08_21')))], response_format='auto', temperature=1.0, tool_resources=ToolResources(code_interpreter=None, file_search=ToolResourcesFileSearch(vector_store_ids=['vs_NdOQW1FfexbMlXKcGY8BCm9U'])), top_p=1.0)"
            ]
          },
          "execution_count": 8,
          "metadata": {},
          "output_type": "execute_result"
        }
      ],
      "source": [
        "## Create an Assistant\n",
        "\n",
        "assistant = client.beta.assistants.create(\n",
        "    name=\"Shakespeare AI Assistant\",\n",
        "    instructions=\"You are a Shakespeare plays expert who answers the question based on the Shakespeare plays inside the Shakespeare Vector Store.\",\n",
        "    model=\"gpt-4o-mini\",\n",
        "    tools=[{\"type\": \"file_search\"}],\n",
        "    tool_resources={\"file_search\": {\"vector_store_ids\": [vector_store.id]}}\n",
        ")\n",
        "\n",
        "assistant"
      ]
    },
    {
      "cell_type": "code",
      "execution_count": 9,
      "metadata": {
        "colab": {
          "base_uri": "https://localhost:8080/"
        },
        "id": "v6BgrO7PsbVQ",
        "outputId": "47d1b31d-6b1b-4b29-d47c-4447ed9488e6"
      },
      "outputs": [
        {
          "data": {
            "text/plain": [
              "Thread(id='thread_SfbI8d6p7PFeI5ThjeqZNNY9', created_at=1729710668, metadata={}, object='thread', tool_resources=ToolResources(code_interpreter=None, file_search=None))"
            ]
          },
          "execution_count": 9,
          "metadata": {},
          "output_type": "execute_result"
        }
      ],
      "source": [
        "## Create a Thread\n",
        "\n",
        "thread = client.beta.threads.create()\n",
        "thread"
      ]
    },
    {
      "cell_type": "code",
      "execution_count": 10,
      "metadata": {
        "id": "CmCvLAZ5sbSI"
      },
      "outputs": [
        {
          "data": {
            "text/plain": [
              "Message(id='msg_K6LY2rY7fCTa8D0OHdP4vWXH', assistant_id=None, attachments=[], completed_at=None, content=[TextContentBlock(text=Text(annotations=[], value='How many plays there are in total?'), type='text')], created_at=1729710697, incomplete_at=None, incomplete_details=None, metadata={}, object='thread.message', role='user', run_id=None, status=None, thread_id='thread_SfbI8d6p7PFeI5ThjeqZNNY9')"
            ]
          },
          "execution_count": 10,
          "metadata": {},
          "output_type": "execute_result"
        }
      ],
      "source": [
        "## Add a Message to the Thread\n",
        "\n",
        "message = client.beta.threads.messages.create(\n",
        "  thread_id=thread.id,\n",
        "  role=\"user\",\n",
        "  content=\"How many plays there are in total?\"\n",
        ")\n",
        "\n",
        "message"
      ]
    },
    {
      "cell_type": "code",
      "execution_count": 11,
      "metadata": {
        "id": "n167t7_bvzWc"
      },
      "outputs": [
        {
          "data": {
            "text/plain": [
              "Run(id='run_iBWoe4rGUeQnCUm12NSTPEzU', assistant_id='asst_DpHaMsJIiZXqE7UU79Pl5N3D', cancelled_at=None, completed_at=1729710728, created_at=1729710714, expires_at=None, failed_at=None, incomplete_details=None, instructions='You are a Shakespeare plays expert who answers the question based on the Shakespeare plays inside the Shakespeare Vector Store.', last_error=None, max_completion_tokens=None, max_prompt_tokens=None, metadata={}, model='gpt-4o-mini', object='thread.run', parallel_tool_calls=True, required_action=None, response_format='auto', started_at=1729710715, status='completed', thread_id='thread_SfbI8d6p7PFeI5ThjeqZNNY9', tool_choice='auto', tools=[FileSearchTool(type='file_search', file_search=FileSearch(max_num_results=None, ranking_options=FileSearchRankingOptions(score_threshold=0.0, ranker='default_2024_08_21')))], truncation_strategy=TruncationStrategy(type='auto', last_messages=None), usage=Usage(completion_tokens=187, prompt_tokens=98626, total_tokens=98813), temperature=1.0, top_p=1.0, tool_resources={})"
            ]
          },
          "execution_count": 11,
          "metadata": {},
          "output_type": "execute_result"
        }
      ],
      "source": [
        "## Add a Run to the Thread - this triggers the assistant to respond to the message\n",
        "\n",
        "run = client.beta.threads.runs.create_and_poll(\n",
        "  thread_id=thread.id,\n",
        "  assistant_id=assistant.id,\n",
        ")\n",
        "\n",
        "run"
      ]
    },
    {
      "cell_type": "code",
      "execution_count": 12,
      "metadata": {},
      "outputs": [
        {
          "name": "stdout",
          "output_type": "stream",
          "text": [
            "SyncCursorPage[Message](data=[Message(id='msg_aqxE7bgyJSO48Rd9w42xX4nB', assistant_id='asst_DpHaMsJIiZXqE7UU79Pl5N3D', attachments=[], completed_at=None, content=[TextContentBlock(text=Text(annotations=[], value=\"The total number of plays written by William Shakespeare is generally considered to be 37. This includes tragedies, comedies, and histories, although the exact count may vary based on the classification of certain works and whether collaborative pieces are included. \\n\\nIf needed, please provide further details if you're looking for anything specific about these plays.\"), type='text')], created_at=1729710727, incomplete_at=None, incomplete_details=None, metadata={}, object='thread.message', role='assistant', run_id='run_iBWoe4rGUeQnCUm12NSTPEzU', status=None, thread_id='thread_SfbI8d6p7PFeI5ThjeqZNNY9'), Message(id='msg_K6LY2rY7fCTa8D0OHdP4vWXH', assistant_id=None, attachments=[], completed_at=None, content=[TextContentBlock(text=Text(annotations=[], value='How many plays there are in total?'), type='text')], created_at=1729710697, incomplete_at=None, incomplete_details=None, metadata={}, object='thread.message', role='user', run_id=None, status=None, thread_id='thread_SfbI8d6p7PFeI5ThjeqZNNY9')], object='list', first_id='msg_aqxE7bgyJSO48Rd9w42xX4nB', last_id='msg_K6LY2rY7fCTa8D0OHdP4vWXH', has_more=False)\n"
          ]
        }
      ],
      "source": [
        "if run.status == 'completed': \n",
        "  messages = client.beta.threads.messages.list(thread_id=thread.id)\n",
        "  print(messages)\n",
        "else:\n",
        "  print(run.status)"
      ]
    },
    {
      "cell_type": "code",
      "execution_count": 13,
      "metadata": {
        "id": "Y13Gor4ZxLe3"
      },
      "outputs": [
        {
          "name": "stdout",
          "output_type": "stream",
          "text": [
            "The total number of plays attributed to William Shakespeare is 37. This number includes various genres such as tragedies, comedies, and histories【16:0†source】.\n"
          ]
        }
      ],
      "source": [
        "## A Loop: ask a question, get a response, ask another question, get another response\n",
        "\n",
        "while True:\n",
        "    run = client.beta.threads.runs.create_and_poll(thread_id=thread.id, assistant_id=assistant.id)\n",
        "    if run.status==\"completed\":\n",
        "        messages = client.beta.threads.messages.list(thread_id=thread.id)\n",
        "        latest_message = messages.data[0]\n",
        "        text = latest_message.content[0].text.value\n",
        "        print(text)\n",
        "        break;"
      ]
    }
  ],
  "metadata": {
    "colab": {
      "provenance": []
    },
    "kernelspec": {
      "display_name": "shakespeare",
      "language": "python",
      "name": "python3"
    },
    "language_info": {
      "codemirror_mode": {
        "name": "ipython",
        "version": 3
      },
      "file_extension": ".py",
      "mimetype": "text/x-python",
      "name": "python",
      "nbconvert_exporter": "python",
      "pygments_lexer": "ipython3",
      "version": "3.10.15"
    }
  },
  "nbformat": 4,
  "nbformat_minor": 0
}
